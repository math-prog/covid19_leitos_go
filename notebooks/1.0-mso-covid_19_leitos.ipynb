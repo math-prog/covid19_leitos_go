{
 "cells": [
  {
   "cell_type": "markdown",
   "metadata": {},
   "source": [
    "# Análise sobre evolução da capacidade dos leitos durante a pandemia de Covid-19 no estado de Goiás"
   ]
  },
  {
   "cell_type": "markdown",
   "metadata": {},
   "source": [
    "Esse projeto tem como fonte os dados obtidos através do site DataSUS, subsistema LT do sistema CNES (Cadastro Nacional de Estabelecimentos de Saúde), com intuito de responder as seguintes questões:\n",
    "\n",
    " - 1: Distribuição geográfica dos leitos por municipio antes e depois da pandemia;\n",
    " - 2: Evolução do número de leitos no período;\n",
    " - 3: Observar se em algum momento houve declínio da capacidade hospitalar instalada;\n",
    " - 4: Comparar a quantidade de leitos SUS e não SUS durante o período;\n",
    " - 5: Previsão de leitos para o ano de 2023.\n",
    "\n",
    "\n",
    " Dados obtidos através da biblioteca microdatasus, em linguagem R.\n",
    "\n",
    " SALDANHA, Raphael de Freitas; BASTOS, Ronaldo Rocha; BARCELLOS, Christovam. Microdatasus: pacote para download e pré-processamento de microdados do Departamento de Informática do SUS (DATASUS). Cad. Saúde Pública, Rio de Janeiro , v. 35, n. 9, e00032419, 2019 . Available from http://ref.scielo.org/dhcq3y."
   ]
  },
  {
   "cell_type": "markdown",
   "metadata": {},
   "source": [
    "Abaixo o dicionário de dados, de acordo com a documentação presente no site ftp://ftp.datasus.gov.br/dissemin/publicos/CNES/200508_/doc/IT_CNES_1706.pdf.\n",
    "\n",
    "| SEQ | CAMPO | TIPO E TAM | DESCRIÇÃO |\n",
    "|-----|-------|------------|-----------|\n",
    "| 1 | CNES | CHAR (7) | Número nacional do estabelecimento de saúde |\n",
    "| 2 | CODUFMUN | CHAR (6) | Código do município do estabelecimento UF+ MUNIC (sem dígito)\n",
    "| 4 | REGSAUDE | CHAR (6) | Código da região de saúde\n",
    "| 5 | MICR_REG | CHAR (4) | Código da micro-região de saúde\n",
    "| 6 | DISTRSAN | CHAR (4) | Código do distrito sanitário\n",
    "| 7 | DISTRADM | CHAR (1) | Código do distrito administrativo\n",
    "| 8 | PF_PJ | CHAR (1) | Indicador de pessoa: 1-Física 3-Jurídica\n",
    "| 9 |CPF_CNPJ | CHAR (14) | CPF do Estabelecimento, caso pessoa física OU CNPJ, caso pessoa jurídica\n",
    "| 10 | NIV_DEP | CHAR (1) | Grau de dependência: 1-Individual 3-Mantida\n",
    "| 11 | CNPJ_MAN | CHAR (14) | CNPJ da mantenedora do Estabelecimento\n",
    "| 12 | ESFERA_A | CHAR (2) | Código da esfera administrativa\n",
    "| 13 | ATIVIDAD | CHAR (2) | Código da atividade de ensino\n",
    "| 14 | RETENCAO | CHAR (2) | Código de retenção de tributos\n",
    "| 15 | NATUREZA | CHAR (2) | Código da natureza da organização\n",
    "| 16 | CLIENTEL | CHAR (2) | Código de fluxo da clientela\n",
    "| 17 | TP_UNID | CHAR (2) | Tipo de unidade (Estabelecimento)\n",
    "| 18 | TURNO_AT | CHAR (2) | Código de turno de atendimento\n",
    "| 19 | NIV_HIER | CHAR (2) | Código do nível de hierarquia\n",
    "| 20 | TERCEIRO | CHAR (1) | O estabelecimento é terceiro: 1-Sim 0-Não\n",
    "| 21 | TP_LEITO | CHAR (2) | Tipo do LEITO\n",
    "| 22 | CODLEITO | CHAR (2) | Especialidade do LEITO\n",
    "| 23 | QT_EXIST | NUMERIC (4) | Quantidade de leitos existentes\n",
    "| 24 | QT_CONTR | NUMERIC (4) | Quantidade de leitos contratados\n",
    "| 25 | QT_SUS | NUMERIC (4) | Quantidade de leitos para o SUS\n",
    "| 26 | QT_NSUS| CHAR(1) | Indicador de EQUIPAMENTO NÃO DISPONÍVEL para o SUS, onde: 1 = SIM 0 = NÃO\n",
    "| 27 | COMPETEN | CHAR (6) | Ano e Mês de competência da informação (AAAAMM)\n",
    "| 28 | NAT_JUR | CHAR (4) | Natureza Jurídica"
   ]
  },
  {
   "cell_type": "markdown",
   "metadata": {},
   "source": [
    "# 0.0 Imports"
   ]
  },
  {
   "cell_type": "code",
   "execution_count": 1,
   "metadata": {},
   "outputs": [],
   "source": [
    "import csv\n",
    "import subprocess\n",
    "\n",
    "import pandas            as pd\n",
    "import numpy             as np\n",
    "import seaborn           as sns\n",
    "import plotly.express    as px\n",
    "import matplotlib.pyplot as plt\n",
    "\n",
    "\n",
    "from dash import Dash, html, dcc\n"
   ]
  },
  {
   "cell_type": "code",
   "execution_count": 4,
   "metadata": {},
   "outputs": [
    {
     "name": "stdout",
     "output_type": "stream",
     "text": [
      "Dash is running on http://127.0.0.1:8050/\n",
      "\n",
      "Dash is running on http://127.0.0.1:8050/\n",
      "\n",
      " * Serving Flask app '__main__'\n",
      " * Debug mode: on\n"
     ]
    },
    {
     "name": "stderr",
     "output_type": "stream",
     "text": [
      "/tmp/ipykernel_22149/2737025911.py:2: DtypeWarning: Columns (6) have mixed types. Specify dtype option on import or set low_memory=False.\n",
      "  df_dash = pd.read_csv(\"../data/processed/dados_processados.csv\", sep = \",\")\n",
      "/home/matheus/anaconda3/envs/covid19_leitos/lib/python3.10/site-packages/traitlets/traitlets.py:2544: FutureWarning: Supporting extra quotes around strings is deprecated in traitlets 5.0. You can use 'hmac-sha256' instead of '\"hmac-sha256\"' if you require traitlets >=5.\n",
      "  warn(\n",
      "/home/matheus/anaconda3/envs/covid19_leitos/lib/python3.10/site-packages/traitlets/traitlets.py:2495: FutureWarning: Supporting extra quotes around Bytes is deprecated in traitlets 5.0. Use '3ed388a3-c5be-450e-9a68-88ca76f748be' instead of 'b\"3ed388a3-c5be-450e-9a68-88ca76f748be\"'.\n",
      "  warn(\n",
      "Traceback (most recent call last):\n",
      "  File \"/home/matheus/anaconda3/envs/covid19_leitos/lib/python3.10/site-packages/ipykernel_launcher.py\", line 17, in <module>\n",
      "    app.launch_new_instance()\n",
      "  File \"/home/matheus/anaconda3/envs/covid19_leitos/lib/python3.10/site-packages/traitlets/config/application.py\", line 991, in launch_instance\n",
      "    app.initialize(argv)\n",
      "  File \"/home/matheus/anaconda3/envs/covid19_leitos/lib/python3.10/site-packages/traitlets/config/application.py\", line 113, in inner\n",
      "    return method(app, *args, **kwargs)\n",
      "  File \"/home/matheus/anaconda3/envs/covid19_leitos/lib/python3.10/site-packages/ipykernel/kernelapp.py\", line 666, in initialize\n",
      "    self.init_sockets()\n",
      "  File \"/home/matheus/anaconda3/envs/covid19_leitos/lib/python3.10/site-packages/ipykernel/kernelapp.py\", line 307, in init_sockets\n",
      "    self.shell_port = self._bind_socket(self.shell_socket, self.shell_port)\n",
      "  File \"/home/matheus/anaconda3/envs/covid19_leitos/lib/python3.10/site-packages/ipykernel/kernelapp.py\", line 244, in _bind_socket\n",
      "    return self._try_bind_socket(s, port)\n",
      "  File \"/home/matheus/anaconda3/envs/covid19_leitos/lib/python3.10/site-packages/ipykernel/kernelapp.py\", line 220, in _try_bind_socket\n",
      "    s.bind(\"tcp://%s:%i\" % (self.ip, port))\n",
      "  File \"/home/matheus/anaconda3/envs/covid19_leitos/lib/python3.10/site-packages/zmq/sugar/socket.py\", line 229, in bind\n",
      "    super().bind(addr)\n",
      "  File \"zmq/backend/cython/socket.pyx\", line 562, in zmq.backend.cython.socket.Socket.bind\n",
      "  File \"zmq/backend/cython/checkrc.pxd\", line 28, in zmq.backend.cython.checkrc._check_rc\n",
      "zmq.error.ZMQError: Address already in use\n"
     ]
    },
    {
     "ename": "SystemExit",
     "evalue": "1",
     "output_type": "error",
     "traceback": [
      "An exception has occurred, use %tb to see the full traceback.\n",
      "\u001b[0;31mSystemExit\u001b[0m\u001b[0;31m:\u001b[0m 1\n"
     ]
    },
    {
     "name": "stderr",
     "output_type": "stream",
     "text": [
      "/home/matheus/anaconda3/envs/covid19_leitos/lib/python3.10/site-packages/IPython/core/interactiveshell.py:3441: UserWarning: To exit: use 'exit', 'quit', or Ctrl-D.\n",
      "  warn(\"To exit: use 'exit', 'quit', or Ctrl-D.\", stacklevel=1)\n"
     ]
    }
   ],
   "source": [
    "app = Dash(__name__)\n",
    "df_dash = pd.read_csv(\"../data/processed/dados_processados.csv\", sep = \",\")\n",
    "\n",
    "app.layout = html.Div([\n",
    "    html.Div(children = [\n",
    "        html.Label('Tipo de Leito'),\n",
    "        dcc.Dropdown(['Total', 'SUS', 'Não SUS'], 'Total'),\n",
    "    ])\n",
    "])\n",
    "\n",
    "if __name__ == '__main__':\n",
    "    app.run_server(debug = True)"
   ]
  },
  {
   "cell_type": "code",
   "execution_count": null,
   "metadata": {},
   "outputs": [],
   "source": []
  }
 ],
 "metadata": {
  "kernelspec": {
   "display_name": "Python 3.10.8 ('covid19_leitos')",
   "language": "python",
   "name": "python3"
  },
  "language_info": {
   "codemirror_mode": {
    "name": "ipython",
    "version": 3
   },
   "file_extension": ".py",
   "mimetype": "text/x-python",
   "name": "python",
   "nbconvert_exporter": "python",
   "pygments_lexer": "ipython3",
   "version": "3.10.8"
  },
  "orig_nbformat": 4,
  "vscode": {
   "interpreter": {
    "hash": "e6ab359f93e7f11e46a7a71afe1ed79ab0ee7e7c7ff26e90d7384df81f84833d"
   }
  }
 },
 "nbformat": 4,
 "nbformat_minor": 2
}
