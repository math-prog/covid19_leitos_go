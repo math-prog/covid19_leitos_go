{
 "cells": [
  {
   "cell_type": "markdown",
   "metadata": {},
   "source": [
    "# Análise sobre evolução da capacidade dos leitos durante a pandemia de Covid-19 no estado de Goiás"
   ]
  },
  {
   "cell_type": "markdown",
   "metadata": {},
   "source": [
    "Esse projeto tem como fonte os dados obtidos através do site DataSUS, subsistema LT do sistema CNES (Cadastro Nacional de Estabelecimentos de Saúde), com intuito de responder as seguintes questões:\n",
    "\n",
    " - 1: Comparar distribuição geográfoca dos leitos por município antes e depois da pandemia\n",
    " - 2: Evolução do número de leitos durante os anos;\n",
    " - 3: Verificar declínio na capacidade hospitalar instalada;\n",
    " - 4: Comparar a quantidade de leitos SUS e não SUS no tempo e espaço.\n",
    "\n",
    " Dados obtidos através da biblioteca microdatasus.\n",
    "\n",
    " SALDANHA, Raphael de Freitas; BASTOS, Ronaldo Rocha; BARCELLOS, Christovam. Microdatasus: pacote para download e pré-processamento de microdados do Departamento de Informática do SUS (DATASUS). Cad. Saúde Pública, Rio de Janeiro , v. 35, n. 9, e00032419, 2019 . Available from http://ref.scielo.org/dhcq3y."
   ]
  },
  {
   "cell_type": "markdown",
   "metadata": {},
   "source": [
    "# 0.0 Imports"
   ]
  },
  {
   "cell_type": "code",
   "execution_count": 7,
   "metadata": {},
   "outputs": [],
   "source": [
    "import os\n",
    "import dbf\n",
    "import glob\n",
    "\n",
    "import pandas as pd\n",
    "import numpy  as np\n"
   ]
  },
  {
   "cell_type": "markdown",
   "metadata": {},
   "source": [
    "## 0.1. Loading Data"
   ]
  },
  {
   "cell_type": "code",
   "execution_count": 3,
   "metadata": {},
   "outputs": [
    {
     "data": {
      "text/plain": [
       "dbf.Table('../data/raw/CNES-LT-2020/LTGO2001.dbc', status=<DbfStatus.READ_ONLY: 1>)"
      ]
     },
     "execution_count": 3,
     "metadata": {},
     "output_type": "execute_result"
    }
   ],
   "source": [
    "# Get list .dbc files\n",
    "#dbc_files = glob.glob('*.dbc')\n",
    "\n",
    "table = dbf.Table(\"../data/raw/CNES-LT-2020/LTGO2001.dbc\")\n",
    "table.open()\n",
    "\n",
    "dbf_file = \"LTGO2001.\"\n",
    "\n",
    "#for dbc_file in dbc_files:\n",
    "    # Open .dbc file\n",
    "#    with open(dbc_file, 'rb') as f:\n",
    "#        table = dbc"
   ]
  },
  {
   "cell_type": "code",
   "execution_count": 11,
   "metadata": {},
   "outputs": [],
   "source": [
    "path = '../data/raw/CNES-LT-2020/'\n",
    "\n",
    "for file in os.listdir(path):\n",
    "    if file.endswith('*.dbc'):\n",
    "        table = dbf.Table(os.path.join(path, file))\n",
    "        table.open()\n",
    "\n",
    "        #df = pd.DataFrame(iter(table))\n",
    "        df = pd.DataFrame(iter(table))\n",
    "\n",
    "        table.close()\n",
    "\n",
    "        df.to_csv(os.path.join(path, file.replace('.dbc', '.csv')), index = False)"
   ]
  },
  {
   "cell_type": "code",
   "execution_count": null,
   "metadata": {},
   "outputs": [],
   "source": [
    "# Iterar sobre cada arquivo DBC e converter para DBF\n",
    "for dbc_file in dbc_files:\n",
    "    # Abrir o arquivo DBC\n",
    "    with open(dbc_file, 'rb') as f:\n",
    "        # Lê o conteúdo do arquivo DBC como um objeto dbf.Table\n",
    "        table = dbf.Table(f)\n",
    "        # Carregar os dados do objeto dbf.Table\n",
    "        table.open()\n",
    "        # Criar o nome do arquivo DBF com o mesmo nome do arquivo DBC, mas com a extensão alterada para .dbf\n",
    "        dbf_file = dbc_file[:-3] + 'dbf'\n",
    "        # Criar o arquivo DBF\n",
    "        with open(dbf_file, 'wb') as f:\n",
    "            # Escrever o conteúdo do objeto dbf.Table no arquivo DBF\n",
    "            table.write(f)\n",
    "        # Fechar o objeto dbf.Table\n",
    "        table.close()"
   ]
  },
  {
   "cell_type": "markdown",
   "metadata": {},
   "source": [
    "# 1.0. Data Description"
   ]
  },
  {
   "cell_type": "markdown",
   "metadata": {},
   "source": [
    "# 2.0. Feature Engineering"
   ]
  },
  {
   "cell_type": "markdown",
   "metadata": {},
   "source": [
    "# 3.0 Data Filtering"
   ]
  },
  {
   "cell_type": "markdown",
   "metadata": {},
   "source": [
    "# 4.0. EDA"
   ]
  },
  {
   "cell_type": "markdown",
   "metadata": {},
   "source": [
    "# 5.0. Dashboards"
   ]
  },
  {
   "cell_type": "markdown",
   "metadata": {},
   "source": []
  }
 ],
 "metadata": {
  "kernelspec": {
   "display_name": "Python 3.10.8 ('covid19_leitos')",
   "language": "python",
   "name": "python3"
  },
  "language_info": {
   "codemirror_mode": {
    "name": "ipython",
    "version": 3
   },
   "file_extension": ".py",
   "mimetype": "text/x-python",
   "name": "python",
   "nbconvert_exporter": "python",
   "pygments_lexer": "ipython3",
   "version": "3.10.8"
  },
  "orig_nbformat": 4,
  "vscode": {
   "interpreter": {
    "hash": "e6ab359f93e7f11e46a7a71afe1ed79ab0ee7e7c7ff26e90d7384df81f84833d"
   }
  }
 },
 "nbformat": 4,
 "nbformat_minor": 2
}
